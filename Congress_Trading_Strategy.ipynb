{
 "cells": [
  {
   "cell_type": "markdown",
   "metadata": {},
   "source": [
    "Congressional Trading Timing Strategy"
   ]
  },
  {
   "cell_type": "code",
   "execution_count": 55,
   "metadata": {},
   "outputs": [],
   "source": [
    "import pandas as pd\n",
    "import numpy as np\n",
    "import xgboost as xgb\n",
    "import matplotlib.pyplot as plt"
   ]
  },
  {
   "cell_type": "code",
   "execution_count": 56,
   "metadata": {},
   "outputs": [
    {
     "name": "stdout",
     "output_type": "stream",
     "text": [
      "  Ticker TickerType                                   Company      Traded  \\\n",
      "0   BRKB         ST  BERKSHIRE HATHAWAY INC. NEW COMMON STOCK  2024-03-28   \n",
      "1    NTR      Stock                               Nutrien Ltd  2024-03-28   \n",
      "2    MOS      Stock                            Mosaic Company  2024-03-28   \n",
      "3      D      Stock                       Dominion Energy Inc  2024-03-28   \n",
      "4   SOFI      Stock                     Sofi Technologies Inc  2024-03-21   \n",
      "\n",
      "   Transaction     Trade_Size_USD Status                  Subholding  \\\n",
      "0         Sale  $15,001 - $50,000    NEW   VANGUARD JOINT RETIREMENT   \n",
      "1     Purchase   $1,001 - $15,000    New                         NaN   \n",
      "2  Sale (Full)   $1,001 - $15,000    New                         NaN   \n",
      "3     Purchase   $1,001 - $15,000    New                         NaN   \n",
      "4  Sale (Full)   $1,001 - $15,000    New                         NaN   \n",
      "\n",
      "  Description               Name       Filed Party District Chamber Comments  \\\n",
      "0         NaN       Kathy Castor  2024-03-28     D     FL14   House      NaN   \n",
      "1         NaN  Carper, Thomas R.  2024-03-29     D      NaN  Senate      NaN   \n",
      "2         NaN  Carper, Thomas R.  2024-03-29     D      NaN  Senate      NaN   \n",
      "3         NaN  Carper, Thomas R.  2024-03-29     D      NaN  Senate      NaN   \n",
      "4         NaN  Carper, Thomas R.  2024-03-29     D      NaN  Senate      NaN   \n",
      "\n",
      "  Quiver_Upload_Time  excess_return     State last_modified  \n",
      "0         2024-03-29       0.681472   Florida    2024-03-29  \n",
      "1         2024-03-29       5.379645  Delaware    2024-03-29  \n",
      "2         2024-03-29       2.903865  Delaware    2024-03-29  \n",
      "3         2024-03-29       0.820252  Delaware    2024-03-29  \n",
      "4         2024-03-29       0.303171  Delaware    2024-03-29  \n"
     ]
    }
   ],
   "source": [
    "# Importing congressional trading dataset\n",
    "data = pd.read_csv(\"congress-trading-all.csv\")\n",
    "\n",
    "# It was found later on that the values for Ticker \"BNB.A\" was not consistent across data sources\n",
    "data['Ticker'] = data['Ticker'].str.replace(r'\\.', '', regex=True)\n",
    "\n",
    "print(data.head())\n"
   ]
  },
  {
   "cell_type": "code",
   "execution_count": 57,
   "metadata": {},
   "outputs": [
    {
     "name": "stdout",
     "output_type": "stream",
     "text": [
      "TickerType\n",
      "AB                    11\n",
      "CS                    14\n",
      "Corporate Bond         4\n",
      "Cryptocurrency         3\n",
      "ET                     7\n",
      "GS                    42\n",
      "HN                     6\n",
      "OI                     2\n",
      "OL                     2\n",
      "OP                     7\n",
      "OT                    51\n",
      "Other Securities      97\n",
      "PS                     1\n",
      "ST                  1094\n",
      "Stock                416\n",
      "Stock Option           5\n",
      "Name: Ticker, dtype: int64\n"
     ]
    }
   ],
   "source": [
    "# Merging on stock tickers to only retrieve congressional data relevant to stock trading\n",
    "ticker_data = pd.read_csv(\"stock_tickers.csv\")\n",
    "combined_data = pd.merge(ticker_data, data, how=\"inner\", left_on='Symbol', right_on='Ticker')\n",
    "\n",
    "# Check to see what these symbols that were not a part of the merged data are denoted as\n",
    "excluded_tickers = data[~data['Ticker'].isin(ticker_data['Symbol'])]\n",
    "unique_counts = excluded_tickers.groupby('TickerType')['Ticker'].nunique()\n",
    "unique_counts_sorted = unique_counts.sort_values(ascending=False)\n",
    "\n",
    "print(unique_counts)\n"
   ]
  },
  {
   "cell_type": "code",
   "execution_count": 62,
   "metadata": {},
   "outputs": [
    {
     "name": "stdout",
     "output_type": "stream",
     "text": [
      "TickerType\n",
      "ST              19295\n",
      "Stock            6226\n",
      "Stock Option      404\n",
      "Name: Symbol, dtype: int64\n"
     ]
    }
   ],
   "source": [
    "# Exclude any data which were listed as non-stocks \n",
    "combined_data = combined_data[(combined_data['TickerType'] == 'ST') | (combined_data['TickerType'] == 'Stock') | (combined_data['TickerType'] == 'Stock Option')]\n",
    "combined_data_types = combined_data.groupby('TickerType')['Symbol'].count()\n",
    "\n",
    "print(combined_data_types)"
   ]
  },
  {
   "cell_type": "markdown",
   "metadata": {},
   "source": [
    "After further investigation, many of the tickers from the congress trading data which were not joining on the stock_tickers data are ETFs, which are not a part of this analysis. We also choose to exclude any tickers which were able to join on the stock_tickers data, but were listed as a non-stock ticker type in the congress trading data.\n"
   ]
  },
  {
   "cell_type": "code",
   "execution_count": null,
   "metadata": {},
   "outputs": [],
   "source": []
  }
 ],
 "metadata": {
  "kernelspec": {
   "display_name": "base",
   "language": "python",
   "name": "python3"
  },
  "language_info": {
   "codemirror_mode": {
    "name": "ipython",
    "version": 3
   },
   "file_extension": ".py",
   "mimetype": "text/x-python",
   "name": "python",
   "nbconvert_exporter": "python",
   "pygments_lexer": "ipython3",
   "version": "3.11.5"
  }
 },
 "nbformat": 4,
 "nbformat_minor": 2
}
